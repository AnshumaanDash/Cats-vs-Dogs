{
 "cells": [
  {
   "cell_type": "markdown",
   "metadata": {},
   "source": [
    "# Part 1 - Building the CNN"
   ]
  },
  {
   "cell_type": "markdown",
   "metadata": {},
   "source": [
    "### Importing the Keras libraries and packages"
   ]
  },
  {
   "cell_type": "code",
   "execution_count": 1,
   "metadata": {},
   "outputs": [
    {
     "name": "stderr",
     "output_type": "stream",
     "text": [
      "Using TensorFlow backend.\n"
     ]
    }
   ],
   "source": [
    "from keras.models import Sequential\n",
    "from keras.layers import Conv2D\n",
    "from keras.layers import MaxPooling2D\n",
    "from keras.layers import Flatten\n",
    "from keras.layers import Dense"
   ]
  },
  {
   "cell_type": "markdown",
   "metadata": {},
   "source": [
    "### Initialising the CNN"
   ]
  },
  {
   "cell_type": "code",
   "execution_count": 2,
   "metadata": {},
   "outputs": [],
   "source": [
    "classifier = Sequential()"
   ]
  },
  {
   "cell_type": "markdown",
   "metadata": {},
   "source": [
    "### Step 1 - Convolution"
   ]
  },
  {
   "cell_type": "code",
   "execution_count": 3,
   "metadata": {},
   "outputs": [],
   "source": [
    "classifier.add(Conv2D(32, (3, 3), input_shape = (64, 64, 3), activation = 'relu'))"
   ]
  },
  {
   "cell_type": "markdown",
   "metadata": {},
   "source": [
    "### Step 2 - Pooling"
   ]
  },
  {
   "cell_type": "code",
   "execution_count": 4,
   "metadata": {},
   "outputs": [],
   "source": [
    "classifier.add(MaxPooling2D(pool_size = (2, 2)))"
   ]
  },
  {
   "cell_type": "markdown",
   "metadata": {},
   "source": [
    "### Adding a second convolutional layer"
   ]
  },
  {
   "cell_type": "code",
   "execution_count": 5,
   "metadata": {},
   "outputs": [],
   "source": [
    "classifier.add(Conv2D(32, (3, 3), activation = 'relu'))\n",
    "classifier.add(MaxPooling2D(pool_size = (2, 2)))"
   ]
  },
  {
   "cell_type": "markdown",
   "metadata": {},
   "source": [
    "### Step 3 - Flattening"
   ]
  },
  {
   "cell_type": "code",
   "execution_count": 6,
   "metadata": {},
   "outputs": [],
   "source": [
    "classifier.add(Flatten())"
   ]
  },
  {
   "cell_type": "markdown",
   "metadata": {},
   "source": [
    "### Step 4 - Full connection"
   ]
  },
  {
   "cell_type": "code",
   "execution_count": 7,
   "metadata": {},
   "outputs": [],
   "source": [
    "classifier.add(Dense(units = 128, activation = 'relu'))\n",
    "classifier.add(Dense(units = 1, activation = 'sigmoid'))"
   ]
  },
  {
   "cell_type": "markdown",
   "metadata": {},
   "source": [
    "### Compiling the CNN"
   ]
  },
  {
   "cell_type": "code",
   "execution_count": 8,
   "metadata": {},
   "outputs": [],
   "source": [
    "classifier.compile(optimizer = 'adam', loss = 'binary_crossentropy', metrics = ['accuracy'])"
   ]
  },
  {
   "cell_type": "markdown",
   "metadata": {},
   "source": [
    "# Part 2 - Fitting the CNN to the images"
   ]
  },
  {
   "cell_type": "code",
   "execution_count": 9,
   "metadata": {},
   "outputs": [],
   "source": [
    "from keras.preprocessing.image import ImageDataGenerator"
   ]
  },
  {
   "cell_type": "code",
   "execution_count": 10,
   "metadata": {},
   "outputs": [],
   "source": [
    "train_datagen = ImageDataGenerator(rescale = 1./255,\n",
    "                                   shear_range = 0.2,\n",
    "                                   zoom_range = 0.2,\n",
    "                                   horizontal_flip = True)"
   ]
  },
  {
   "cell_type": "code",
   "execution_count": 11,
   "metadata": {},
   "outputs": [],
   "source": [
    "test_datagen = ImageDataGenerator(rescale = 1./255)"
   ]
  },
  {
   "cell_type": "code",
   "execution_count": 12,
   "metadata": {},
   "outputs": [
    {
     "name": "stdout",
     "output_type": "stream",
     "text": [
      "Found 8000 images belonging to 2 classes.\n"
     ]
    }
   ],
   "source": [
    "training_set = train_datagen.flow_from_directory('dataset/training_set',\n",
    "                                                 target_size = (64, 64),\n",
    "                                                 batch_size = 32,\n",
    "                                                 class_mode = 'binary')"
   ]
  },
  {
   "cell_type": "code",
   "execution_count": 13,
   "metadata": {},
   "outputs": [
    {
     "name": "stdout",
     "output_type": "stream",
     "text": [
      "Found 2000 images belonging to 2 classes.\n"
     ]
    }
   ],
   "source": [
    "test_set = test_datagen.flow_from_directory('dataset/test_set',\n",
    "                                            target_size = (64, 64),\n",
    "                                            batch_size = 32,\n",
    "                                            class_mode = 'binary')"
   ]
  },
  {
   "cell_type": "code",
   "execution_count": 14,
   "metadata": {},
   "outputs": [
    {
     "name": "stdout",
     "output_type": "stream",
     "text": [
      "Epoch 1/25\n",
      "8000/8000 [==============================] - 1396s 175ms/step - loss: 0.3343 - acc: 0.8445 - val_loss: 0.6790 - val_acc: 0.7995\n",
      "Epoch 2/25\n",
      "8000/8000 [==============================] - 1361s 170ms/step - loss: 0.0782 - acc: 0.9714 - val_loss: 1.0487 - val_acc: 0.7970\n",
      "Epoch 3/25\n",
      "8000/8000 [==============================] - 1383s 173ms/step - loss: 0.0420 - acc: 0.9853 - val_loss: 1.1101 - val_acc: 0.7970\n",
      "Epoch 4/25\n",
      "8000/8000 [==============================] - 26722s 3s/step - loss: 0.0308 - acc: 0.9896 - val_loss: 1.2730 - val_acc: 0.7955\n",
      "Epoch 5/25\n",
      "8000/8000 [==============================] - 1362s 170ms/step - loss: 0.0259 - acc: 0.9914 - val_loss: 1.3309 - val_acc: 0.7895\n",
      "Epoch 6/25\n",
      "8000/8000 [==============================] - 1419s 177ms/step - loss: 0.0218 - acc: 0.9928 - val_loss: 1.3881 - val_acc: 0.7935\n",
      "Epoch 7/25\n",
      "8000/8000 [==============================] - 1363s 170ms/step - loss: 0.0193 - acc: 0.9940 - val_loss: 1.6753 - val_acc: 0.7830\n",
      "Epoch 8/25\n",
      "8000/8000 [==============================] - 1364s 170ms/step - loss: 0.0173 - acc: 0.9944 - val_loss: 1.5241 - val_acc: 0.7925\n",
      "Epoch 9/25\n",
      "8000/8000 [==============================] - 1370s 171ms/step - loss: 0.0154 - acc: 0.9952 - val_loss: 1.5088 - val_acc: 0.8005\n",
      "Epoch 10/25\n",
      "8000/8000 [==============================] - 1350s 169ms/step - loss: 0.0146 - acc: 0.9956 - val_loss: 1.5888 - val_acc: 0.8080\n",
      "Epoch 11/25\n",
      "8000/8000 [==============================] - 1350s 169ms/step - loss: 0.0134 - acc: 0.9958 - val_loss: 1.5931 - val_acc: 0.7920\n",
      "Epoch 12/25\n",
      "8000/8000 [==============================] - 1353s 169ms/step - loss: 0.0121 - acc: 0.9962 - val_loss: 1.6206 - val_acc: 0.8095\n",
      "Epoch 13/25\n",
      "8000/8000 [==============================] - 1353s 169ms/step - loss: 0.0117 - acc: 0.9966 - val_loss: 1.5897 - val_acc: 0.7935\n",
      "Epoch 14/25\n",
      "8000/8000 [==============================] - 1353s 169ms/step - loss: 0.0108 - acc: 0.9968 - val_loss: 1.6733 - val_acc: 0.7965\n",
      "Epoch 15/25\n",
      "8000/8000 [==============================] - 1354s 169ms/step - loss: 0.0109 - acc: 0.9969 - val_loss: 1.7680 - val_acc: 0.7875\n",
      "Epoch 16/25\n",
      "8000/8000 [==============================] - 1354s 169ms/step - loss: 0.0106 - acc: 0.9970 - val_loss: 1.6439 - val_acc: 0.8050\n",
      "Epoch 17/25\n",
      "8000/8000 [==============================] - 1354s 169ms/step - loss: 0.0102 - acc: 0.9969 - val_loss: 1.8079 - val_acc: 0.7865\n",
      "Epoch 18/25\n",
      "8000/8000 [==============================] - 1354s 169ms/step - loss: 0.0091 - acc: 0.9973 - val_loss: 1.7693 - val_acc: 0.7835\n",
      "Epoch 19/25\n",
      "8000/8000 [==============================] - 1355s 169ms/step - loss: 0.0087 - acc: 0.9975 - val_loss: 1.9067 - val_acc: 0.7900\n",
      "Epoch 20/25\n",
      "8000/8000 [==============================] - 1360s 170ms/step - loss: 0.0084 - acc: 0.9975 - val_loss: 1.8015 - val_acc: 0.7955\n",
      "Epoch 21/25\n",
      "8000/8000 [==============================] - 1355s 169ms/step - loss: 0.0073 - acc: 0.9977 - val_loss: 2.0581 - val_acc: 0.7820\n",
      "Epoch 22/25\n",
      "8000/8000 [==============================] - 1356s 169ms/step - loss: 0.0073 - acc: 0.9979 - val_loss: 1.9137 - val_acc: 0.7915\n",
      "Epoch 23/25\n",
      "8000/8000 [==============================] - 1357s 170ms/step - loss: 0.0082 - acc: 0.9977 - val_loss: 1.8990 - val_acc: 0.7930\n",
      "Epoch 24/25\n",
      "8000/8000 [==============================] - 1359s 170ms/step - loss: 0.0078 - acc: 0.9978 - val_loss: 1.8594 - val_acc: 0.8000\n",
      "Epoch 25/25\n",
      "8000/8000 [==============================] - 1359s 170ms/step - loss: 0.0065 - acc: 0.9980 - val_loss: 1.8900 - val_acc: 0.7885\n"
     ]
    },
    {
     "data": {
      "text/plain": [
       "<keras.callbacks.History at 0x7f49a0131630>"
      ]
     },
     "execution_count": 14,
     "metadata": {},
     "output_type": "execute_result"
    }
   ],
   "source": [
    "classifier.fit_generator(training_set,\n",
    "                         steps_per_epoch = 8000,\n",
    "                         epochs = 25,\n",
    "                         validation_data = test_set,\n",
    "                         validation_steps = 2000)"
   ]
  },
  {
   "cell_type": "markdown",
   "metadata": {},
   "source": [
    "# Part 3 - Single Prediction"
   ]
  },
  {
   "cell_type": "code",
   "execution_count": 15,
   "metadata": {},
   "outputs": [],
   "source": [
    "import numpy as np\n",
    "from keras.preprocessing import image"
   ]
  },
  {
   "cell_type": "code",
   "execution_count": 16,
   "metadata": {},
   "outputs": [
    {
     "data": {
      "text/plain": [
       "{'cats': 0, 'dogs': 1}"
      ]
     },
     "execution_count": 16,
     "metadata": {},
     "output_type": "execute_result"
    }
   ],
   "source": [
    "training_set.class_indices"
   ]
  },
  {
   "cell_type": "code",
   "execution_count": 22,
   "metadata": {},
   "outputs": [
    {
     "name": "stdout",
     "output_type": "stream",
     "text": [
      "[[1.]]\n"
     ]
    }
   ],
   "source": [
    "test_image = image.load_img('dataset/single_prediction/cat_or_dog_1.jpg', target_size=(64,64))\n",
    "test_image = image.img_to_array(test_image)\n",
    "test_image = np.expand_dims(test_image, axis=0)\n",
    "\n",
    "result = classifier.predict(test_image)\n",
    "print(result)"
   ]
  },
  {
   "cell_type": "code",
   "execution_count": 21,
   "metadata": {},
   "outputs": [
    {
     "name": "stdout",
     "output_type": "stream",
     "text": [
      "[[0.]]\n"
     ]
    }
   ],
   "source": [
    "test_image = image.load_img('dataset/single_prediction/cat_or_dog_2.jpg', target_size=(64,64))\n",
    "test_image = image.img_to_array(test_image)\n",
    "test_image = np.expand_dims(test_image, axis=0)\n",
    "\n",
    "result = classifier.predict(test_image)\n",
    "print(result)"
   ]
  }
 ],
 "metadata": {
  "kernelspec": {
   "display_name": "Python 3",
   "language": "python",
   "name": "python3"
  },
  "language_info": {
   "codemirror_mode": {
    "name": "ipython",
    "version": 3
   },
   "file_extension": ".py",
   "mimetype": "text/x-python",
   "name": "python",
   "nbconvert_exporter": "python",
   "pygments_lexer": "ipython3",
   "version": "3.6.5"
  }
 },
 "nbformat": 4,
 "nbformat_minor": 2
}
